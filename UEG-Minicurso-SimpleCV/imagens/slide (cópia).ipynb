{
 "metadata": {
  "celltoolbar": "Slideshow",
  "name": "",
  "signature": "sha256:078cc85fbc643f5b493a99e2003f82ca7209d99a314018526cfa867cec62a827"
 },
 "nbformat": 3,
 "nbformat_minor": 0,
 "worksheets": [
  {
   "cells": [
    {
     "cell_type": "markdown",
     "metadata": {
      "slideshow": {
       "slide_type": "slide"
      }
     },
     "source": [
      "<center>\n",
      "<img src=\"imagens/python-logo2.png\" width=700 />\n",
      "</center>"
     ]
    },
    {
     "cell_type": "markdown",
     "metadata": {
      "slideshow": {
       "slide_type": "slide"
      }
     },
     "source": [
      "* Surgiu em 1989\n",
      "* Criada por Guido van Rossum\n",
      "\n",
      "<img src=\"imagens/g.png\" width=350 style=\"float: left; width: 20%; margin-right: 1%; margin-bottom: 0.5em;\"/>"
     ]
    },
    {
     "cell_type": "markdown",
     "metadata": {
      "slideshow": {
       "slide_type": "fragment"
      }
     },
     "source": [
      "* Monty Python and the flying circus\n",
      "\n",
      "<img src=\"imagens/o.png\" width=400 style=\"float: left; width: 20%; margin-right: 1%; margin-bottom: 0.5em;\"/>\n"
     ]
    },
    {
     "cell_type": "markdown",
     "metadata": {
      "slideshow": {
       "slide_type": "fragment"
      }
     },
     "source": [
      "* Licen\u00e7a compat\u00edvel com Software Livre"
     ]
    },
    {
     "cell_type": "markdown",
     "metadata": {
      "slideshow": {
       "slide_type": "fragment"
      }
     },
     "source": [
      "\n",
      "\n",
      "* Linguagem de alt\u00edssimo n\u00edvel (VHLL)\n",
      "* Tipagem din\u00e2mica\n",
      "* Compilada + Interpretada\n",
      "* Baterias Inclusas"
     ]
    },
    {
     "cell_type": "markdown",
     "metadata": {
      "slideshow": {
       "slide_type": "slide"
      }
     },
     "source": [
      "<h1 align=center class=\"title\">Onde Tudo Come\u00e7ou</h1>\n",
      "\n",
      "<img src=\"imagens/google.png\" width=1900 />\n",
      "\n"
     ]
    },
    {
     "cell_type": "markdown",
     "metadata": {
      "slideshow": {
       "slide_type": "slide"
      }
     },
     "source": [
      "<h1 align=center class=\"title\">Python a Arma Secreta do Google!!</h1>\n",
      "\n",
      "<center>\n",
      "<img src=\"imagens/google-python.png\" width=1200 />\n",
      "</center>\n"
     ]
    },
    {
     "cell_type": "markdown",
     "metadata": {
      "slideshow": {
       "slide_type": "slide"
      }
     },
     "source": [
      "<h1 align=center class=\"title\">Com Python voc\u00ea pode programar B\u00eabado</h1>\n"
     ]
    },
    {
     "cell_type": "code",
     "collapsed": false,
     "input": [
      "print \"Sintaxi depois da 1\u00ba dose\"\n",
      "\n",
      "print \"Sintaxi depois da 2\u00ba dose\";\n",
      "\n",
      "print (\"muito b\u00eabado!\");\n",
      "\n",
      "print (\"o.0\")\n"
     ],
     "language": "python",
     "metadata": {
      "slideshow": {
       "slide_type": "-"
      }
     },
     "outputs": []
    },
    {
     "cell_type": "markdown",
     "metadata": {
      "slideshow": {
       "slide_type": "slide"
      }
     },
     "source": [
      "<h1 align=center class=\"title\">Produtividade R\u00e1pida</h1>\n",
      "<img src=\"imagens/cod.png\" width=900 />"
     ]
    },
    {
     "cell_type": "markdown",
     "metadata": {
      "slideshow": {
       "slide_type": "slide"
      }
     },
     "source": [
      "<h1 align=center class=\"title\">A Criptografia de C\u00e9sar</h1>\n",
      "<img src=\"imagens/meme.png\" width=700 />"
     ]
    },
    {
     "cell_type": "markdown",
     "metadata": {
      "slideshow": {
       "slide_type": "slide"
      }
     },
     "source": [
      "<h1 align=center class=\"title\">Ser\u00e1 em quantas linhas de python ficaria :/</h1>\n"
     ]
    },
    {
     "cell_type": "code",
     "collapsed": false,
     "input": [
      "print ''.join([chr(154 - ord(c)) for c in 'look for me'])"
     ],
     "language": "python",
     "metadata": {
      "slideshow": {
       "slide_type": "-"
      }
     },
     "outputs": []
    },
    {
     "cell_type": "markdown",
     "metadata": {
      "slideshow": {
       "slide_type": "slide"
      }
     },
     "source": [
      "<h1 align=center class=\"title\">jogo de xadrez 2d com a criptografia de cezar</h1>"
     ]
    },
    {
     "cell_type": "code",
     "collapsed": false,
     "input": [
      "print\"\".join(u\"\\x1b[%dm%c%s\"%((42+y%2^y>>3&1),((1,3,2,-1,0,2,3,1)+(4,)*8+32*(-9781,)+8*(10,)+(7,9,8,5,6,8,9,7))[y]+9813,(y+1)%8and\" \"or\" \\x1b[48m\\n\")for y in range(64))"
     ],
     "language": "python",
     "metadata": {
      "slideshow": {
       "slide_type": "-"
      }
     },
     "outputs": []
    },
    {
     "cell_type": "markdown",
     "metadata": {
      "slideshow": {
       "slide_type": "slide"
      }
     },
     "source": [
      "<h1 align=center class=\"title\">Voc\u00eas reconhecem esta imagem?</h1>\n",
      "<h2 align=center class=\"title\">Ela \u00e9 \\*a\\* Original?</h2>\n",
      "<center>\n",
      "<img src=\"imagens/monalisa.jpg\" width=400/>\n",
      "</center>"
     ]
    },
    {
     "cell_type": "markdown",
     "metadata": {
      "slideshow": {
       "slide_type": "slide"
      }
     },
     "source": [
      "<h1 align=center class=\"title\">E esta? Mas Como voc\u00ea sabe?</h1>\n",
      "<center>\n",
      "<img src=\"imagens/monabean.jpeg\" width=400/>\n",
      "\n",
      "</center>"
     ]
    },
    {
     "cell_type": "markdown",
     "metadata": {},
     "source": [
      "<h1 align=center class=\"title\">How to Code?</h1>\n",
      "<center>\n",
      "<img src=\"imagens/code.png\" width=400/>\n",
      "</center>"
     ]
    },
    {
     "cell_type": "markdown",
     "metadata": {
      "slideshow": {
       "slide_type": "slide"
      }
     },
     "source": [
      "<h1 align=center class=\"title\">How to Code?</h1>\n",
      "<center>\n",
      "<img src=\"imagens/pixel.png\" width=900/>\n",
      "</center>"
     ]
    },
    {
     "cell_type": "markdown",
     "metadata": {
      "slideshow": {
       "slide_type": "slide"
      }
     },
     "source": [
      "<h1 align=center class=\"title\">How to Code?</h1>\n",
      "<center>\n",
      "<img src=\"imagens/cartesiano.png\" width=650/>\n",
      "</center>"
     ]
    },
    {
     "cell_type": "markdown",
     "metadata": {
      "slideshow": {
       "slide_type": "slide"
      }
     },
     "source": [
      "<h1 align=center class=\"title\">How to Code?</h1>\n",
      "<center>\n",
      "<img src=\"imagens/pixel2.png\" width=900/>\n",
      "</center>"
     ]
    },
    {
     "cell_type": "markdown",
     "metadata": {
      "slideshow": {
       "slide_type": "slide"
      }
     },
     "source": [
      "<h1 align=center class=\"title\">How to Code?</h1>\n",
      "<center>\n",
      "<img src=\"imagens/pixel3.png\" width=900/>\n",
      "</center>"
     ]
    },
    {
     "cell_type": "markdown",
     "metadata": {},
     "source": [
      "<h1 align=center class=\"title\">How to Code?</h1>\n",
      "<center>\n",
      "<img src=\"imagens/pixel4.png\" width=900/>\n",
      "</center>"
     ]
    },
    {
     "cell_type": "markdown",
     "metadata": {
      "slideshow": {
       "slide_type": "slide"
      }
     },
     "source": [
      "<h1 align=center class=\"title\">How to Code?</h1>\n",
      "<center>\n",
      "<img src=\"imagens/pixel5.png\" width=900/>\n",
      "</center>"
     ]
    },
    {
     "cell_type": "markdown",
     "metadata": {
      "slideshow": {
       "slide_type": "slide"
      }
     },
     "source": [
      "<h1 align=center class=\"title\">How to Code?</h1>\n",
      "<center>\n",
      "<img src=\"imagens/pixell6.png\" width=900/>\n",
      "</center>"
     ]
    },
    {
     "cell_type": "markdown",
     "metadata": {
      "slideshow": {
       "slide_type": "slide"
      }
     },
     "source": [
      "<h1 align=center class=\"title\">How to Code?</h1>\n",
      "<center>\n",
      "<img src=\"imagens/pixel7.png\" width=900/>\n",
      "</center>"
     ]
    },
    {
     "cell_type": "markdown",
     "metadata": {
      "slideshow": {
       "slide_type": "slide"
      }
     },
     "source": [
      "<h1 align=center class=\"title\">How to Code?</h1>\n",
      "<center>\n",
      "<img src=\"imagens/pixel8.png\" width=900/>\n",
      "</center>"
     ]
    },
    {
     "cell_type": "markdown",
     "metadata": {
      "slideshow": {
       "slide_type": "slide"
      }
     },
     "source": [
      "<h1 align=center class=\"title\">How to Code?</h1>\n",
      "<center>\n",
      "<img src=\"imagens/pixel9.png\" width=900/>\n",
      "</center>"
     ]
    },
    {
     "cell_type": "code",
     "collapsed": false,
     "input": [
      "video(\"imagens/motion.mp4\", \"mp4\")"
     ],
     "language": "python",
     "metadata": {
      "slideshow": {
       "slide_type": "slide"
      }
     },
     "outputs": []
    },
    {
     "cell_type": "markdown",
     "metadata": {
      "slideshow": {
       "slide_type": "slide"
      }
     },
     "source": [
      "<h1 align=center class=\"title\">Inicio de 2012</h1>\n",
      "<h2 align=center class=\"title\">Olimpus D-390</h2>\n",
      "<center>\n",
      "<img src=\"imagens/olimpus.jpg\" width=700/>\n",
      "</center>"
     ]
    },
    {
     "cell_type": "markdown",
     "metadata": {
      "slideshow": {
       "slide_type": "slide"
      }
     },
     "source": [
      "<h1 align=center class=\"title\">O.o</h1>\n",
      "\n",
      "<center>\n",
      "<img src=\"imagens/fuu.png\" width=900/>\n",
      "</center>"
     ]
    },
    {
     "cell_type": "markdown",
     "metadata": {},
     "source": [
      "<h1 align=center class=\"title\">Script para redimensionar!</h1>\n",
      "\n",
      "<center>\n",
      "<img src=\"imagens/pyresizer1.png\" width=1000/>\n",
      "</center>"
     ]
    },
    {
     "cell_type": "code",
     "collapsed": false,
     "input": [
      "import os\n",
      "\n",
      "image_dir = \"/home/administrador-x/Imagens\" \n",
      "os.chdir(image_dir)\n",
      "os.mkdir(\"resize\")\n",
      "x,y = 640,480\n",
      "iset = ImageSet()\n",
      "\n",
      "\n",
      "imgs = ImageSet(image_dir)\n",
      "for img in imgs:\n",
      "    iset.append(img.resize(w=x, h=y))\n",
      "iset.save(\"resize\")\n"
     ],
     "language": "python",
     "metadata": {
      "slideshow": {
       "slide_type": "slide"
      }
     },
     "outputs": []
    },
    {
     "cell_type": "code",
     "collapsed": false,
     "input": [
      "!du -ah resize/"
     ],
     "language": "python",
     "metadata": {
      "slideshow": {
       "slide_type": "-"
      }
     },
     "outputs": []
    },
    {
     "cell_type": "markdown",
     "metadata": {
      "slideshow": {
       "slide_type": "slide"
      }
     },
     "source": [
      "<h1 align=center class=\"title\">:)</h1>\n",
      "\n",
      "<center>\n",
      "<img src=\"imagens/me.png\" width=700/>\n",
      "</center>"
     ]
    },
    {
     "cell_type": "markdown",
     "metadata": {
      "slideshow": {
       "slide_type": "slide"
      }
     },
     "source": [
      "<h1 align=center class=\"title\">quem mecheu no meu Sorvete?</h1>\n",
      "\n"
     ]
    },
    {
     "cell_type": "markdown",
     "metadata": {
      "slideshow": {
       "slide_type": "slide"
      }
     },
     "source": [
      "<h1 align=center class=\"title\">Pronto!</h1>\n",
      "\n",
      "<center>\n",
      "<img src=\"imagens/sorvete1.png\" width=650/>\n",
      "</center>"
     ]
    },
    {
     "cell_type": "markdown",
     "metadata": {
      "slideshow": {
       "slide_type": "slide"
      }
     },
     "source": [
      "<center>\n",
      "<img src=\"imagens/sorvete2.png\" width=700/>\n",
      "</center>"
     ]
    },
    {
     "cell_type": "markdown",
     "metadata": {
      "slideshow": {
       "slide_type": "slide"
      }
     },
     "source": [
      "<center>\n",
      "<img src=\"imagens/sorvete3.png\" width=700/>\n",
      "</center>"
     ]
    },
    {
     "cell_type": "markdown",
     "metadata": {
      "slideshow": {
       "slide_type": "slide"
      }
     },
     "source": [
      "<center>\n",
      "<img src=\"imagens/sorvetee4.png\" width=700/>\n",
      "</center>"
     ]
    },
    {
     "cell_type": "markdown",
     "metadata": {
      "slideshow": {
       "slide_type": "slide"
      }
     },
     "source": [
      "<center>\n",
      "<img src=\"imagens/sorvete5.png\" width=700/>\n",
      "</center>"
     ]
    },
    {
     "cell_type": "code",
     "collapsed": false,
     "input": [
      "from SimpleCV import *\n",
      "\n",
      "cam = Camera()\n",
      "threshold = 5.0 # if mean exceeds this amount do something\n",
      "\n",
      "while True:\n",
      "        previous = cam.getImage() #grab a frame\n",
      "        time.sleep(0.5) #wait for half a second\n",
      "        current = cam.getImage() #grab another frame\n",
      "        diff = current - previous\n",
      "        matrix = diff.getNumpy()\n",
      "        mean = matrix.mean()\n",
      "\n",
      "        diff.show()\n",
      "\n",
      "        if mean >= threshold:\n",
      "                print \"Motion Detected\""
     ],
     "language": "python",
     "metadata": {
      "slideshow": {
       "slide_type": "slide"
      }
     },
     "outputs": []
    },
    {
     "cell_type": "markdown",
     "metadata": {
      "slideshow": {
       "slide_type": "slide"
      }
     },
     "source": [
      "<h1 align=center class=\"title\">Reconhecimento Optical de Caracteres (OCR)</h1>\n",
      "\n",
      "<center>\n",
      "<img src=\"imagens/ret.png\" width=700/>\n",
      "</center>"
     ]
    },
    {
     "cell_type": "code",
     "collapsed": false,
     "input": [
      "img = Image(\"imagens/ret.png\")\n",
      "img = img.smartRotate()   \n",
      "img.show()"
     ],
     "language": "python",
     "metadata": {
      "slideshow": {
       "slide_type": "slide"
      }
     },
     "outputs": [
      {
       "metadata": {},
       "output_type": "display_data",
       "png": "[encoded data removed]",
       "text": [
        "<IPython.core.display.Image at 0x7fbb848d95d0>"
       ]
      },
      {
       "metadata": {},
       "output_type": "pyout",
       "prompt_number": 26,
       "text": [
        "<SimpleCV.Display Object resolution:((640, 480)), Image Resolution: (0, 0) at memory location: (0x7fbb848be050)>"
       ]
      }
     ],
     "prompt_number": 26
    },
    {
     "cell_type": "code",
     "collapsed": false,
     "input": [
      "bin = img.binarize()\n",
      "bin.show()"
     ],
     "language": "python",
     "metadata": {
      "slideshow": {
       "slide_type": "slide"
      }
     },
     "outputs": [
      {
       "metadata": {},
       "output_type": "display_data",
       "png": "[encoded data removed]",
       "text": [
        "<IPython.core.display.Image at 0x7fbb848d9510>"
       ]
      },
      {
       "metadata": {},
       "output_type": "pyout",
       "prompt_number": 27,
       "text": [
        "<SimpleCV.Display Object resolution:((640, 480)), Image Resolution: (0, 0) at memory location: (0x7fbb848c8e18)>"
       ]
      }
     ],
     "prompt_number": 27
    },
    {
     "cell_type": "code",
     "collapsed": false,
     "input": [
      "text = bin.readText()[:-5]\n",
      "if text:\n",
      "    string = \"Texto reconhecido da Imagem:-->%s\" % (text)\n",
      "    img.drawText(string,35,15,color=Color.AZURE,fontsize=35)\n",
      "img.show()   \n",
      "print text"
     ],
     "language": "python",
     "metadata": {},
     "outputs": [
      {
       "metadata": {},
       "output_type": "display_data",
       "png": "[encoded data removed]",
       "text": [
        "<IPython.core.display.Image at 0x7fbbc06dab90>"
       ]
      },
      {
       "output_type": "stream",
       "stream": "stdout",
       "text": [
        "Please install the correct OCR library required - http://code.google.com/p/tesseract-ocr/ http://code.google.com/p/python-tesse\n"
       ]
      }
     ],
     "prompt_number": 28
    },
    {
     "cell_type": "code",
     "collapsed": false,
     "input": [
      "from mpl_toolkits.basemap import Basemap\n",
      "from matplotlib import pyplot\n",
      "from numpy import arange\n",
      "\n",
      "\n",
      "\n",
      "mapa = Basemap(projection='ortho', lat_0=-20, lon_0=-50,\n",
      "resolution='l', area_thresh=1e3)\n",
      "mapa.bluemarble()\n",
      "mapa.drawcoastlines(color='#777799')\n",
      "mapa.drawcountries(color='#ccccee')\n",
      "mapa.drawmapboundary()\n",
      "mapa.drawmeridians(arange(0,360,30), color='#ccccee')\n",
      "mapa.drawparallels(arange(-90,90,30), color='#ccccee')\n",
      "x,y = mapa([-43.1],[-22.6])\n",
      "\n",
      "mapa.plot(x, y,'w^')\n",
      "mapa.pyplot.text(x[0]+2e5, y[0]-6e5, 'Rio\\nde\\nJaneiro',\n",
      "color='#eeeecc')\n",
      "Marca um ponto no mapa.\n",
      "pyplot.show()"
     ],
     "language": "python",
     "metadata": {
      "slideshow": {
       "slide_type": "slide"
      }
     },
     "outputs": []
    },
    {
     "cell_type": "code",
     "collapsed": false,
     "input": [
      "from mpl_toolkits.basemap import Basemap\n",
      "from matplotlib import pyplot\n",
      "mapa = Basemap(projection='ortho', lat_0=10, lon_0=-10,\n",
      "resolution='l', area_thresh=1e3)\n",
      "# Preenche o mapa com relevo\n",
      "mapa.bluemarble()\n",
      "mapa.drawcoastlines(color='#777799')\n",
      "mapa.drawcountries(color='#ccccee')\n",
      "\n",
      "m.fillcontinents()\n",
      "lxy = (('Rio\\nde\\nJaneiro', -43.11, -22.54),\n",
      "('Londres', 0.07, 50.30))\n",
      "# Transposta\n",
      "lxy = zip(*lxy)\n",
      "# Converte as coordenadas\n",
      "x, y = mapa(lxy[1], lxy[2])\n",
      "lxy = lxy[0], x, y\n",
      "# Marca no mapa\n",
      "mapa.plot(x, y, 'w^')\n",
      "# Escreve os nomes\n",
      "for l, x, y in zip(*lxy):\n",
      "    pyplot.text(x+2e5, y-6e5, l,\n",
      "    color='#eeeecc')\n",
      "pyplot.show()"
     ],
     "language": "python",
     "metadata": {},
     "outputs": []
    },
    {
     "cell_type": "code",
     "collapsed": false,
     "input": [
      "from mpl_toolkits.basemap import Basemap\n",
      "import numpy as np\n",
      "import matplotlib.pyplot as plt\n",
      "# create new figure, axes instances.\n",
      "fig=plt.figure()\n",
      "ax=fig.add_axes([0.1,0.1,0.8,0.8])\n",
      "# setup mercator map projection.\n",
      "m = Basemap(llcrnrlon=-100.,llcrnrlat=20.,urcrnrlon=20.,urcrnrlat=60.,\\\n",
      "            rsphere=(6378137.00,6356752.3142),\\\n",
      "            resolution='l',projection='merc',\\\n",
      "            lat_0=40.,lon_0=-20.,lat_ts=20.)\n",
      "# nylat, nylon are lat/lon of New York\n",
      "nylat = 40.78; nylon = -73.98\n",
      "# lonlat, lonlon are lat/lon of London.\n",
      "lonlat = 51.53; lonlon = 0.08\n",
      "# draw great circle route between NY and London\n",
      "m.drawgreatcircle(nylon,nylat,lonlon,lonlat,linewidth=2,color='b')\n",
      "m.drawcoastlines()\n",
      "m.fillcontinents()\n",
      "# draw parallels\n",
      "m.drawparallels(np.arange(10,90,20),labels=[1,1,0,1])\n",
      "# draw meridians\n",
      "m.drawmeridians(np.arange(-180,180,30),labels=[1,1,0,1])\n",
      "ax.set_title('Great Circle from New York to London')\n",
      "plt.show()"
     ],
     "language": "python",
     "metadata": {},
     "outputs": []
    },
    {
     "cell_type": "code",
     "collapsed": false,
     "input": [],
     "language": "python",
     "metadata": {},
     "outputs": []
    },
    {
     "cell_type": "code",
     "collapsed": false,
     "input": [
      "from mpl_toolkits.mplot3d import Axes3D\n",
      "from matplotlib import cm\n",
      "import matplotlib.pyplot as plt\n",
      "import numpy as np\n",
      "\n",
      "n_angles = 36\n",
      "n_radii = 8\n",
      "\n",
      "# An array of radii\n",
      "# Does not include radius r=0, this is to eliminate duplicate points\n",
      "radii = np.linspace(0.125, 1.0, n_radii)\n",
      "\n",
      "# An array of angles\n",
      "angles = np.linspace(0, 2*np.pi, n_angles, endpoint=False)\n",
      "\n",
      "# Repeat all angles for each radius\n",
      "angles = np.repeat(angles[...,np.newaxis], n_radii, axis=1)\n",
      "\n",
      "# Convert polar (radii, angles) coords to cartesian (x, y) coords\n",
      "# (0, 0) is added here. There are no duplicate points in the (x, y) plane\n",
      "x = np.append(0, (radii*np.cos(angles)).flatten())\n",
      "y = np.append(0, (radii*np.sin(angles)).flatten())\n",
      "\n",
      "# Pringle surface\n",
      "z = np.sin(-x*y)\n",
      "\n",
      "fig = plt.figure()\n",
      "ax = fig.gca(projection='3d')\n",
      "\n",
      "ax.plot_trisurf(x, y, z, cmap=cm.jet, linewidth=0.2)\n",
      "\n",
      "plt.show()"
     ],
     "language": "python",
     "metadata": {
      "slideshow": {
       "slide_type": "skip"
      }
     },
     "outputs": []
    },
    {
     "cell_type": "code",
     "collapsed": false,
     "input": [
      "# Plot of the Lorenz Attractor based on Edward Lorenz's 1963 \"Deterministic\n",
      "# Nonperiodic Flow\" publication.\n",
      "# http://journals.ametsoc.org/doi/abs/10.1175/1520-0469%281963%29020%3C0130%3ADNF%3E2.0.CO%3B2\n",
      "#\n",
      "# Note: Because this is a simple non-linear ODE, it would be more easily\n",
      "#       done using SciPy's ode solver, but this approach depends only\n",
      "#       upon NumPy.\n",
      "\n",
      "import numpy as np\n",
      "from  matplotlib import pyplot as plt\n",
      "from mpl_toolkits.mplot3d import Axes3D\n",
      "\n",
      "\n",
      "def lorenz(x, y, z, s=10, r=28, b=2.667) :\n",
      "    x_dot = s*(y - x)\n",
      "    y_dot = r*x - y - x*z\n",
      "    z_dot = x*y - b*z\n",
      "    return x_dot, y_dot, z_dot\n",
      "\n",
      "\n",
      "dt = 0.01\n",
      "stepCnt = 10000\n",
      "\n",
      "# Need one more for the initial values\n",
      "xs = np.empty((stepCnt + 1,))\n",
      "ys = np.empty((stepCnt + 1,))\n",
      "zs = np.empty((stepCnt + 1,))\n",
      "\n",
      "# Setting initial values\n",
      "xs[0], ys[0], zs[0] = (0., 1., 1.05)\n",
      "\n",
      "# Stepping through \"time\".\n",
      "for i in range(stepCnt) :\n",
      "    # Derivatives of the X, Y, Z state\n",
      "    x_dot, y_dot, z_dot = lorenz(xs[i], ys[i], zs[i])\n",
      "    xs[i + 1] = xs[i] + (x_dot * dt)\n",
      "    ys[i + 1] = ys[i] + (y_dot * dt)\n",
      "    zs[i + 1] = zs[i] + (z_dot * dt)\n",
      "\n",
      "fig = plt.figure()\n",
      "ax = fig.gca(projection='3d')\n",
      "\n",
      "ax.plot(xs, ys, zs)\n",
      "ax.set_xlabel(\"X Axis\")\n",
      "ax.set_ylabel(\"Y Axis\")\n",
      "ax.set_zlabel(\"Z Axis\")\n",
      "ax.set_title(\"Lorenz Attractor\")\n",
      "\n",
      "plt.show()\n"
     ],
     "language": "python",
     "metadata": {},
     "outputs": []
    },
    {
     "cell_type": "code",
     "collapsed": false,
     "input": [
      "#!/usr/bin/env python\n",
      "\"\"\" This example demonstrates rendering a color volume.\n",
      "We demonstrate two renderers capable of rendering color data:\n",
      "the colormip and coloriso renderer.\n",
      "\"\"\"\n",
      "\n",
      "import visvis as vv\n",
      "app = vv.use()\n",
      "\n",
      "# Create volume (smooth a bit)\n",
      "if True:\n",
      "    \n",
      "    vol0 = vv.aVolume()\n",
      "    vol = vol0.copy()*0.5\n",
      "    vol[1:,:,:] += 0.3 * vol0[:-1,:,:]\n",
      "    vol[:-1,:,:] += 0.3 * vol0[1:,:,:]\n",
      "    vol[:,1:,:] += 0.3 * vol0[:,:-1,:]\n",
      "    vol[:,:-1,:] += 0.3 * vol0[:,1:,:]\n",
      "    vol[:,:,1:] += 0.3 * vol0[:,:,:-1]\n",
      "    vol[:,:,:-1] += 0.3 * vol0[:,:,1:]\n",
      "else:\n",
      "    # My personal test\n",
      "    from visvis import ssdf\n",
      "    s = ssdf.load('/home/almar/data/dicom/cropped/croppedReg_pat01_gravity.bsdf')\n",
      "    vol = s.vol\n",
      "\n",
      "##\n",
      "\n",
      "# Create figure and make subplots with different renderers\n",
      "vv.figure(1); vv.clf()\n",
      "RS = ['mip', 'iso', 'edgeray', 'ray', 'litray']\n",
      "a0 = None\n",
      "tt = []\n",
      "for i in range(5):\n",
      "    a = vv.subplot(3,2,i+2)\n",
      "    t = vv.volshow(vol)\n",
      "    vv.title('Renderstyle ' + RS[i])\n",
      "    t.colormap = vv.CM_HOT #vv.CM_CT1\n",
      "    t.renderStyle = RS[i]\n",
      "    tt.append(t)\n",
      "    if a0 is None:\n",
      "        a0 = a\n",
      "    else:\n",
      "        a.camera = a0.camera\n",
      "\n",
      "# Create colormap editor in first axes\n",
      "cme = vv.ColormapEditor(vv.gcf(), *tt[3:])\n",
      "\n",
      "# Run app\n",
      "app.Create()\n",
      "app.Run()"
     ],
     "language": "python",
     "metadata": {},
     "outputs": []
    },
    {
     "cell_type": "code",
     "collapsed": false,
     "input": [
      "from pylab import *\n",
      "from mpl_toolkits.mplot3d import Axes3D\n",
      "from matplotlib.cbook import get_sample_data\n",
      "from matplotlib._png import read_png\n",
      "fn = get_sample_data(\"/usr/share/matplotlib/sample_data/lena.png\", asfileobj=False)\n",
      "img = read_png(fn)\n",
      "x, y = ogrid[0:img.shape[0], 0:img.shape[1]]\n",
      "ax = gca(projection='3d')\n",
      "ax.plot_surface(x, y, 10, rstride=5, cstride=5, facecolors=img)\n",
      "show()"
     ],
     "language": "python",
     "metadata": {},
     "outputs": []
    },
    {
     "cell_type": "code",
     "collapsed": false,
     "input": [
      "#!/usr/bin/env python\n",
      "\n",
      "import visvis as vv\n",
      "import numpy as np\n",
      "app = vv.use()\n",
      "vv.clf()\n",
      "\n",
      "# create volume\n",
      "vol = vv.aVolume(size=64)\n",
      "\n",
      "# set labels\n",
      "vv.xlabel('x axis')\n",
      "vv.ylabel('y axis')\n",
      "vv.zlabel('z axis')\n",
      "\n",
      "# show\n",
      "t = vv.volshow(vol, renderStyle='mip')\n",
      "# try the differtent render styles, for examample \n",
      "# \"t.renderStyle='iso'\" or \"t.renderStyle='ray'\"\n",
      "# If the drawing hangs, your video drived decided to render in software mode.\n",
      "# This is unfortunately (as far as I know) not possible to detect. \n",
      "# It might help if your data is shaped a power of 2.\n",
      "\n",
      "# Get axes and set camera to orthographic mode (with a field of view of 70)\n",
      "a = vv.gca()\n",
      "a.camera.fov = 45\n",
      "\n",
      "# Create colormap editor wibject.\n",
      "vv.ColormapEditor(a)\n",
      "\n",
      "# Start app\n",
      "app.Run()"
     ],
     "language": "python",
     "metadata": {},
     "outputs": []
    },
    {
     "cell_type": "code",
     "collapsed": false,
     "input": [
      "#!/usr/bin/env python\n",
      "\"\"\" This example shows all mesh objects that can be created out of the box.\n",
      "It also shows the different techniques to apply color to the meshes using\n",
      "plain color, colormaps and texture.\n",
      "\n",
      "On the website, this example also demonstrates the fly camera to fly through \n",
      "the mesh objects.\n",
      "\n",
      "\"\"\"\n",
      "\n",
      "import numpy as np\n",
      "import visvis as vv\n",
      "from visvis import Point, Pointset\n",
      "vv.figure()\n",
      "a = vv.gca()\n",
      "\n",
      "# Define points for the line\n",
      "pp = Pointset(3)\n",
      "pp.append(0,0,0); pp.append(0,1,0); pp.append(1,2,0); pp.append(0,2,1)\n",
      "\n",
      "# Create all solids\n",
      "box = vv.solidBox((0,0,0))\n",
      "sphere = vv.solidSphere((3,0,0))\n",
      "cone = vv.solidCone((6,0,0))\n",
      "pyramid = vv.solidCone((9,0,0), N=4) # a cone with 4 faces is a pyramid\n",
      "cylinder = vv.solidCylinder((0,3,0),(1,1,2))\n",
      "ring = vv.solidRing((3,3,0))\n",
      "teapot = vv.solidTeapot((6,3,0))\n",
      "line = vv.solidLine(pp+Point(9,3,0), radius = 0.2)\n",
      "\n",
      "# Let's put a face on that cylinder\n",
      "# This works because 2D texture coordinates are automatically generated for\n",
      "# the sphere, cone, cylinder and ring. \n",
      "im = vv.imread('imagens/ueg.jpg')\n",
      "cylinder.SetTexture(im)\n",
      "\n",
      "# Make the ring green\n",
      "ring.faceColor = 'g'\n",
      "\n",
      "# Make the sphere dull\n",
      "sphere.specular = 0\n",
      "sphere.diffuse = 0.4\n",
      "\n",
      "# Show lines in yellow pyramid\n",
      "pyramid.faceColor = 'y'\n",
      "pyramid.edgeShading = 'plain'\n",
      "\n",
      "# Colormap example\n",
      "N = cone._vertices.shape[0]\n",
      "cone.SetValues( np.linspace(0,1,N) )\n",
      "cone.colormap = vv.CM_JET\n",
      "\n",
      "# Show title and enter main loop\n",
      "vv.title('All mesh objects that can be created out of the box')\n",
      "app = vv.use()\n",
      "app.Run()\n"
     ],
     "language": "python",
     "metadata": {},
     "outputs": []
    },
    {
     "cell_type": "code",
     "collapsed": false,
     "input": [
      "video(\"imagens/motion.mp4\",\"mp4\")\n"
     ],
     "language": "python",
     "metadata": {},
     "outputs": []
    },
    {
     "cell_type": "code",
     "collapsed": false,
     "input": [
      "from IPython.display import display, HTML\n",
      "from SimpleCV import *\n",
      "init_options_handler.enable_notebook()\n",
      "\n",
      "\n",
      "def video(fname, mimetype):\n",
      "    \"\"\"Load the video in the file `fname`, with given mimetype, and display as HTML5 video.\n",
      "    \"\"\"\n",
      "    from IPython.display import HTML\n",
      "    \n",
      "    video_encoded = open(fname, \"rb\").read().encode(\"base64\")\n",
      "    video_tag = '<video width=\"800\" height=\"600\" controls alt=\"test\" src=\"data:video/{0};base64,{1}\">'.format(mimetype, video_encoded)\n",
      "    \n",
      "    return HTML(data=video_tag)\n",
      "\n",
      "\n",
      "s = \"\"\"\n",
      "\n",
      "\n",
      "<style>\n",
      "\n",
      ".rendered_html {\n",
      "    font-family: \"proxima-nova\", helvetica;\n",
      "    font-size: 100%;\n",
      "    line-height: 1.3;\n",
      "}\n",
      "\n",
      ".rendered_html h1 {\n",
      "    margin: 0.25em 0em 0.5em;\n",
      "    color: #015C9C;\n",
      "    text-align: center;\n",
      "    line-height: 1.2; \n",
      "    page-break-before: always;\n",
      "}\n",
      "\n",
      ".rendered_html h2 {\n",
      "    margin: 1.1em 0em 0.5em;\n",
      "    color: #015C9C;\n",
      "    line-height: 1.2;\n",
      "}\n",
      "\n",
      ".rendered_html h3 {\n",
      "    margin: 1.1em 0em 0.5em;\n",
      "    color: #002845;\n",
      "    line-height: 1.2;\n",
      "}\n",
      "\n",
      ".rendered_html li {\n",
      "    line-height: 1.5; \n",
      "}\n",
      "\n",
      ".prompt {\n",
      "    font-size: 100%; \n",
      "}\n",
      "\n",
      ".CodeMirror-lines {\n",
      "    font-size: 100%; \n",
      "}\n",
      "\n",
      ".output_area {\n",
      "    font-size: 100%; \n",
      "}\n",
      "\n",
      "\n",
      "\n",
      "h1.bigtitle {\n",
      "    margin: 4cm 1cm 4cm 1cm;\n",
      "    font-size: 300%;\n",
      "}\n",
      "\n",
      "h3.point {\n",
      "    font-size: 200%;\n",
      "    text-align: center;\n",
      "    margin: 2em 0em 2em 0em;\n",
      "    #26465D\n",
      "}\n",
      "\n",
      ".logo {\n",
      "    margin: 20px 0 20px 0;\n",
      "}\n",
      "\n",
      "a.anchor-link {\n",
      "    display: none;\n",
      "}\n",
      "\n",
      "h1.title { \n",
      "    font-size: 250%;\n",
      "}\n",
      "\n",
      "</style>\n",
      "\"\"\"\n",
      "display(HTML(s))"
     ],
     "language": "python",
     "metadata": {},
     "outputs": []
    }
   ],
   "metadata": {}
  }
 ]
}